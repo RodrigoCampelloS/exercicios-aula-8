{
 "cells": [
  {
   "cell_type": "code",
   "execution_count": 2,
   "metadata": {},
   "outputs": [
    {
     "name": "stdout",
     "output_type": "stream",
     "text": [
      "para n= 10 temos a estimativa de pi como sendo: 5\n",
      "para n= 50 temos a estimativa de pi como sendo: 2.38095\n",
      "para n= 100 temos a estimativa de pi como sendo: 3.57143\n",
      "para n= 1000 temos a estimativa de pi como sendo: 3.24675\n"
     ]
    }
   ],
   "source": [
    "float n[4] ={10.,50.,100.,1000.};//Iniciando o array com valores de n\n",
    "float x=1.; // Iniciando variavel x\n",
    "float theta=1.; // Iniciando variavel theta\n",
    "float m=0.; // Iniciando variavel m\n",
    "TRandom3* r = new TRandom3(); // Criando gerador de numeros aleatorios\n",
    "\n",
    "\n",
    "\n",
    "//Loop para passar por todos os valores de n\n",
    "for(int i=0;i<4;i++){\n",
    "\n",
    "\t//Loop para gerar as agulhas aleatoriamente\n",
    "\tfor(int j=0;j<n[i];j++){ \n",
    "\t\n",
    "\t\tx=2*r->Rndm(); // gerando x entre 0 e 2\n",
    "\t\ttheta=3.1416*r->Rndm(); // gerando theta entre 0 e pi\n",
    "\t\t\n",
    "\t\tif(x<=1*sin(theta)){ // verificando se a agulha intercepta a linha\n",
    "\t\t\tm++; //acrescentando m em 1\n",
    "\t\t}\n",
    "\t}\n",
    "\n",
    "cout<<\"para n= \";\n",
    "cout<<n[i];\n",
    "cout<<\" temos a estimativa de pi como sendo: \";\n",
    "cout<< n[i]/m << endl;\n",
    "m=0;\n",
    "}"
   ]
  }
 ],
 "metadata": {
  "kernelspec": {
   "display_name": "ROOT C++",
   "language": "c++",
   "name": "root"
  },
  "language_info": {
   "codemirror_mode": "text/x-c++src",
   "file_extension": ".C",
   "mimetype": " text/x-c++src",
   "name": "c++"
  }
 },
 "nbformat": 4,
 "nbformat_minor": 4
}
